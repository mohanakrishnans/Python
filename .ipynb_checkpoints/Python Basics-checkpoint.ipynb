{
 "cells": [
  {
   "cell_type": "markdown",
   "metadata": {
    "collapsed": true
   },
   "source": [
    "# Intro to Python Basics\n"
   ]
  },
  {
   "cell_type": "markdown",
   "metadata": {},
   "source": [
    "# python was created in 1990 by Guido van Rossum in Holland. Python is a interpreted language"
   ]
  },
  {
   "cell_type": "code",
   "execution_count": 5,
   "metadata": {},
   "outputs": [
    {
     "data": {
      "text/plain": [
       "4"
      ]
     },
     "execution_count": 5,
     "metadata": {},
     "output_type": "execute_result"
    }
   ],
   "source": [
    "2 + 2"
   ]
  },
  {
   "cell_type": "code",
   "execution_count": 6,
   "metadata": {},
   "outputs": [
    {
     "name": "stdout",
     "output_type": "stream",
     "text": [
      "Second Program\n"
     ]
    }
   ],
   "source": [
    "print('Second Program')"
   ]
  },
  {
   "cell_type": "markdown",
   "metadata": {},
   "source": [
    "## 1.Print Syntax"
   ]
  },
  {
   "cell_type": "code",
   "execution_count": 7,
   "metadata": {},
   "outputs": [
    {
     "name": "stdout",
     "output_type": "stream",
     "text": [
      "mohan\n"
     ]
    }
   ],
   "source": [
    "print(\"mohan\")"
   ]
  },
  {
   "cell_type": "code",
   "execution_count": 8,
   "metadata": {},
   "outputs": [
    {
     "name": "stdout",
     "output_type": "stream",
     "text": [
      "mohan\n"
     ]
    }
   ],
   "source": [
    "print('mohan')"
   ]
  },
  {
   "cell_type": "markdown",
   "metadata": {},
   "source": [
    "# 2.Indentation"
   ]
  },
  {
   "cell_type": "code",
   "execution_count": 18,
   "metadata": {},
   "outputs": [
    {
     "name": "stdout",
     "output_type": "stream",
     "text": [
      "First Command\n",
      "None\n"
     ]
    }
   ],
   "source": [
    "def my_function():\n",
    "   print('First Command')\n",
    "\n",
    "print(my_function())"
   ]
  },
  {
   "cell_type": "markdown",
   "metadata": {},
   "source": [
    "# 3.Case sensitivity and variables"
   ]
  },
  {
   "cell_type": "code",
   "execution_count": 21,
   "metadata": {},
   "outputs": [
    {
     "name": "stdout",
     "output_type": "stream",
     "text": [
      "Mohan\n",
      "mohan\n"
     ]
    }
   ],
   "source": [
    "name = 'Mohan'\n",
    "Name = 'mohan'\n",
    "\n",
    "print(name)\n",
    "print(Name)"
   ]
  },
  {
   "cell_type": "markdown",
   "metadata": {},
   "source": [
    "# 4.Comments"
   ]
  },
  {
   "cell_type": "code",
   "execution_count": 26,
   "metadata": {},
   "outputs": [
    {
     "name": "stdout",
     "output_type": "stream",
     "text": [
      "First Commmand\n"
     ]
    }
   ],
   "source": [
    "# this fuction prints something\n",
    "def my_function():              # this is a function definition\n",
    "    return 'First Commmand'     # this is a return statement\n",
    "\n",
    "print(my_function())            # this is a function call within a print statement\n"
   ]
  },
  {
   "cell_type": "markdown",
   "metadata": {},
   "source": [
    "# 5. Variables"
   ]
  },
  {
   "cell_type": "code",
   "execution_count": 31,
   "metadata": {},
   "outputs": [
    {
     "name": "stdout",
     "output_type": "stream",
     "text": [
      "mohan\n",
      "26\n",
      "3000\n"
     ]
    }
   ],
   "source": [
    "name = 'mohan' # creating is also known as declaring the variaable\n",
    "age = 26\n",
    "\n",
    "print(name)\n",
    "print(age)\n",
    "\n",
    "name = 3000    # you can also re-declare a variable just by changing its value.\n",
    "\n",
    "print(name)"
   ]
  },
  {
   "cell_type": "markdown",
   "metadata": {},
   "source": [
    "# 6.Type "
   ]
  },
  {
   "cell_type": "code",
   "execution_count": 43,
   "metadata": {},
   "outputs": [
    {
     "name": "stdout",
     "output_type": "stream",
     "text": [
      "<class 'bool'>\n",
      "<class 'int'>\n",
      "<class 'float'>\n",
      "<class 'complex'>\n",
      "<class 'str'>\n",
      "<class 'str'>\n",
      "Tamil Nadu\n",
      "8 <-- Length of the string\n"
     ]
    }
   ],
   "source": [
    "my_bool = True               # boolean\n",
    "print(type(my_bool))\n",
    "\n",
    "my_int = 1234                # int\n",
    "print(type(my_int))\n",
    "\n",
    "my_float = 123.235           # float\n",
    "print(type(my_float))\n",
    "\n",
    "my_complex_number = 32-4j    # complex number\n",
    "print(type(my_complex_number))\n",
    "\n",
    "my_str_1 = 'string 1'\n",
    "my_str_2 = str('string 2')   # string\n",
    "print(type(my_str_1))\n",
    "print(type(my_str_2))\n",
    "\n",
    "word1 = 'Tamil'               \n",
    "word2 = ' Nadu'               # string concat\n",
    "print(word1 + word2)\n",
    "\n",
    "\n",
    "print(len('New York'),'<-- Length of the string')"
   ]
  },
  {
   "cell_type": "markdown",
   "metadata": {},
   "source": [
    "# 7.Replace the Characters"
   ]
  },
  {
   "cell_type": "code",
   "execution_count": 47,
   "metadata": {},
   "outputs": [
    {
     "name": "stdout",
     "output_type": "stream",
     "text": [
      "Tamil Nadu, Coimbatore\n",
      "TAMIL NADU, ANNUR\n",
      "tamil nadu, annur\n"
     ]
    }
   ],
   "source": [
    "# Replace\n",
    "print('Tamil Nadu, Chennai'.replace('Chennai','Coimbatore')) \n",
    "\n",
    "# toUpper\n",
    "print('tamil Nadu, Annur'.upper())\n",
    "\n",
    "# toLower\n",
    "print('TaMiL NaDU, Annur'.lower())"
   ]
  },
  {
   "cell_type": "markdown",
   "metadata": {},
   "source": [
    "# 8.Lists\n"
   ]
  },
  {
   "cell_type": "code",
   "execution_count": 34,
   "metadata": {},
   "outputs": [
    {
     "name": "stdout",
     "output_type": "stream",
     "text": [
      "<class 'list'>\n",
      "['bmw', 'audi', 'benz']\n",
      "\n",
      "----------------------------------------------------------\n",
      "\n",
      "[]\n",
      "['mohan', 'john']\n",
      "['mohan', 'john', 'Saran']\n",
      "['mohan', 'john', 'Johnson', 'Saran']\n",
      "\n",
      "----------------------------------------------------------\n",
      "\n",
      "['bob', 'saran']\n",
      "['saran']\n",
      "[]\n"
     ]
    }
   ],
   "source": [
    "my_list = [\"bmw\",\"audi\",\"benz\"]\n",
    "print(type(my_list))\n",
    "print(my_list)\n",
    "\n",
    "###################################################################\n",
    "print(\"\\n----------------------------------------------------------\\n\")\n",
    "\n",
    "\n",
    "people = []                      # empty lists\n",
    "print(people)\n",
    "\n",
    "people = ['mohan','john']        # initial values\n",
    "print(people)\n",
    "\n",
    "people.append('Saran')           # adding in lists\n",
    "print(people)\n",
    "\n",
    "people.insert(2,'Johnson')       # insert print(people)\n",
    "print(people)\n",
    "\n",
    "###################################################################\n",
    "print(\"\\n----------------------------------------------------------\\n\")\n",
    "\n",
    "\n",
    "## updating the lists\n",
    "\n",
    "people = ['bob','mary']\n",
    "people[1] = 'saran'\n",
    "print(people)\n",
    "\n",
    "\n",
    "## deleting\n",
    "\n",
    "people.remove('bob')\n",
    "print(people)\n",
    "\n",
    "## clear everything\n",
    "people.clear()\n",
    "print(people)\n",
    "\n",
    "\n",
    "\n"
   ]
  },
  {
   "cell_type": "markdown",
   "metadata": {},
   "source": [
    "# 9.Tuples\n"
   ]
  },
  {
   "cell_type": "code",
   "execution_count": 45,
   "metadata": {},
   "outputs": [
    {
     "name": "stdout",
     "output_type": "stream",
     "text": [
      "('bmw', 'audi', 'benz')\n",
      "\n",
      "----------------------------------------------------------\n",
      "\n",
      "()\n",
      "('bob', 'mary')\n",
      "('bob', 'Sarah')\n"
     ]
    }
   ],
   "source": [
    "my_tuples = ('bmw','audi','benz')\n",
    "print(my_tuples)\n",
    "\n",
    "\n",
    "###################################################################\n",
    "print(\"\\n----------------------------------------------------------\\n\")\n",
    "\n",
    "people = ()              # empty tuple\n",
    "print(people)\n",
    "\n",
    "\n",
    "people = ('bob','mary')# initial values\n",
    "print(people)\n",
    "\n",
    "people = ('bob','mary')\n",
    "# people[2] = 'Sarah'     \n",
    "# adding in tuple in not possible \n",
    "# since they are immutable\n",
    "\n",
    "\n",
    "\n",
    "# to add in tuple you must change tuple to list\n",
    "people_list = list(people)\n",
    "people_list[1] = 'Sarah'\n",
    "people = tuple(people_list)\n",
    "print(people)\n",
    "\n",
    "\n",
    "\n"
   ]
  },
  {
   "cell_type": "markdown",
   "metadata": {},
   "source": [
    "# 10.Sets"
   ]
  },
  {
   "cell_type": "code",
   "execution_count": 53,
   "metadata": {},
   "outputs": [
    {
     "name": "stdout",
     "output_type": "stream",
     "text": [
      "<class 'set'>\n",
      "{'audi', 'benz', 'bmw'}\n",
      "set()\n",
      "{'bob', 'mary'}\n",
      "{'bob', 'sarah', 'mary'}\n",
      "{'susan', 'carol', 'sarah', 'bob', 'mary'}\n",
      "{'susan', 'carol', 'sarah', 'mary'}\n",
      "set()\n"
     ]
    }
   ],
   "source": [
    "my_set = {'bmw','audi','benz'}\n",
    "print(type(my_set))\n",
    "print(my_set)\n",
    "\n",
    "people = set()                   # empty set\n",
    "print(people)\n",
    "\n",
    "people = {'bob','mary'}          # initialization\n",
    "print(people)\n",
    "\n",
    "people.add('sarah')              # add\n",
    "print(people)\n",
    "\n",
    "people.update(['carol','susan']) # update\n",
    "print(people)\n",
    "\n",
    "people.remove('bob')             # delete\n",
    "print(people)\n",
    "\n",
    "people.clear()                   # clear\n",
    "print(people)\n",
    "\n",
    "\n"
   ]
  },
  {
   "cell_type": "markdown",
   "metadata": {},
   "source": [
    "# 11.Dictionaries"
   ]
  },
  {
   "cell_type": "code",
   "execution_count": 61,
   "metadata": {},
   "outputs": [
    {
     "name": "stdout",
     "output_type": "stream",
     "text": [
      "<class 'dict'>\n",
      "dict_values(['frances', 2])\n",
      "{}\n",
      "{'bob': 30, 'mary': 25}\n",
      "{'bob': 30, 'mary': 25, 'Sarah': 32}\n",
      "{'bob': 28, 'mary': 25, 'Sarah': 32}\n",
      "28\n",
      "{'mary': 25, 'Sarah': 32}\n"
     ]
    }
   ],
   "source": [
    "my_dict = {\"country\" : \"frances\",\n",
    "           \"worldcup\": 2 }\n",
    "print(type(my_dict))\n",
    "print(my_dict.values())\n",
    "\n",
    "\n",
    "people = {}                     # empty dict\n",
    "print(people)\n",
    "\n",
    "people = {'bob':30, 'mary':25}  # initial values\n",
    "print(people)\n",
    "\n",
    "people['Sarah'] = 32            # adding key & values\n",
    "print(people)\n",
    "\n",
    "\n",
    "people['bob'] = 28              # updating\n",
    "print(people)\n",
    "\n",
    "print(people['bob'])            # retrievind in dict\n",
    "\n",
    "\n",
    "people.pop('bob')               # deleting\n",
    "print(people)\n",
    "\n",
    "people.clear()                  # clear\n",
    "\n"
   ]
  },
  {
   "cell_type": "markdown",
   "metadata": {},
   "source": [
    "# 12.Type casting"
   ]
  },
  {
   "cell_type": "markdown",
   "metadata": {},
   "source": [
    "# Explicit conversion"
   ]
  },
  {
   "cell_type": "code",
   "execution_count": 60,
   "metadata": {},
   "outputs": [
    {
     "name": "stdout",
     "output_type": "stream",
     "text": [
      "32\n",
      "32\n",
      "32.0\n",
      "\n",
      "\n",
      "2222\n",
      "22\n",
      "2222\n"
     ]
    }
   ],
   "source": [
    "#######################\n",
    "### String TYPE CAST ##\n",
    "#######################\n",
    "str1 = str('32')\n",
    "print(str1)\n",
    "\n",
    "str1 = str(32)\n",
    "print(str1)\n",
    "\n",
    "str1 = str(32.000)\n",
    "print(str1)\n",
    "\n",
    "print('\\n')\n",
    "\n",
    "######################\n",
    "### Int TYPE CAST ####\n",
    "######################\n",
    "int1 = int('2222')\n",
    "print(int1)\n",
    "\n",
    "int1 = int(22.22)\n",
    "print(int1)\n",
    "\n",
    "int1 = int(2222)\n",
    "print(int1)\n",
    "\n",
    "\n"
   ]
  },
  {
   "cell_type": "markdown",
   "metadata": {},
   "source": [
    "# Implicit conversion "
   ]
  },
  {
   "cell_type": "code",
   "execution_count": 63,
   "metadata": {},
   "outputs": [
    {
     "name": "stdout",
     "output_type": "stream",
     "text": [
      "12.5\n",
      "<class 'float'>\n"
     ]
    }
   ],
   "source": [
    "# int and float can be casted \n",
    "\n",
    "my_int = 10\n",
    "my_float = 2.5\n",
    "\n",
    "print(my_int + my_float)\n",
    "\n",
    "\n",
    "print(type(my_int + my_float))\n"
   ]
  },
  {
   "cell_type": "code",
   "execution_count": 67,
   "metadata": {},
   "outputs": [
    {
     "ename": "TypeError",
     "evalue": "unsupported operand type(s) for +: 'int' and 'str'",
     "output_type": "error",
     "traceback": [
      "\u001b[1;31m---------------------------------------------------------------------------\u001b[0m",
      "\u001b[1;31mTypeError\u001b[0m                                 Traceback (most recent call last)",
      "\u001b[1;32m<ipython-input-67-0fb0ac5fb8c6>\u001b[0m in \u001b[0;36m<module>\u001b[1;34m()\u001b[0m\n\u001b[0;32m      4\u001b[0m \u001b[0mmy_str\u001b[0m \u001b[1;33m=\u001b[0m \u001b[1;34m'2.5'\u001b[0m\u001b[1;33m\u001b[0m\u001b[0m\n\u001b[0;32m      5\u001b[0m \u001b[1;33m\u001b[0m\u001b[0m\n\u001b[1;32m----> 6\u001b[1;33m \u001b[0mprint\u001b[0m\u001b[1;33m(\u001b[0m\u001b[0mmy_int\u001b[0m \u001b[1;33m+\u001b[0m \u001b[0mmy_str\u001b[0m\u001b[1;33m)\u001b[0m\u001b[1;33m\u001b[0m\u001b[0m\n\u001b[0m\u001b[0;32m      7\u001b[0m \u001b[1;33m\u001b[0m\u001b[0m\n\u001b[0;32m      8\u001b[0m \u001b[1;33m\u001b[0m\u001b[0m\n",
      "\u001b[1;31mTypeError\u001b[0m: unsupported operand type(s) for +: 'int' and 'str'"
     ]
    }
   ],
   "source": [
    "# int and string cannot be casted \n",
    "\n",
    "my_int = 10\n",
    "my_str = '2.5'\n",
    "\n",
    "print(my_int + my_str)\n",
    "\n",
    "\n",
    "print(type(my_int + my_str))\n"
   ]
  },
  {
   "cell_type": "markdown",
   "metadata": {},
   "source": [
    "# 13.User Input\n"
   ]
  },
  {
   "cell_type": "code",
   "execution_count": 70,
   "metadata": {},
   "outputs": [
    {
     "name": "stdout",
     "output_type": "stream",
     "text": [
      "what is your country?India\n",
      "India\n",
      "\n",
      "\n",
      "How old are You ?26\n",
      "26\n",
      "<class 'str'>\n",
      "<class 'int'>\n"
     ]
    }
   ],
   "source": [
    "country = input('what is your country?')\n",
    "\n",
    "print(country)\n",
    "\n",
    "print('\\n')\n",
    "\n",
    "age = input (\"How old are You ?\")\n",
    "print(age)\n",
    "print(type(age))\n",
    "\n",
    "age = int(age)\n",
    "\n",
    "print(type(age))"
   ]
  },
  {
   "cell_type": "markdown",
   "metadata": {},
   "source": [
    "# 14.Operators \n"
   ]
  },
  {
   "cell_type": "code",
   "execution_count": 75,
   "metadata": {},
   "outputs": [
    {
     "name": "stdout",
     "output_type": "stream",
     "text": [
      "Add : 7\n",
      "SUb : 7\n",
      "Mul : 10\n",
      "Div : 2.5\n",
      "Floor Division : 2\n",
      "Exponentiation : 25\n",
      "Modulus        : 1\n"
     ]
    }
   ],
   "source": [
    "print('Add :', 5 + 2)\n",
    "print('SUb :', 5 + 2)\n",
    "print('Mul :', 5 * 2)\n",
    "print('Div :', 5 / 2)\n",
    "print('Floor Division :', 5 // 2)\n",
    "print('Exponentiation :', 5 ** 2)\n",
    "print('Modulus        :', 5 %  2)\n"
   ]
  },
  {
   "cell_type": "markdown",
   "metadata": {},
   "source": [
    "# 15.Concatentation\n"
   ]
  },
  {
   "cell_type": "code",
   "execution_count": 78,
   "metadata": {},
   "outputs": [
    {
     "name": "stdout",
     "output_type": "stream",
     "text": [
      "Mohanakrishnan\n"
     ]
    }
   ],
   "source": [
    "first_name = 'Mohana'\n",
    "last_name = 'krishnan'\n",
    "\n",
    "print(first_name + last_name)"
   ]
  },
  {
   "cell_type": "markdown",
   "metadata": {},
   "source": [
    "# 16.Comaparison"
   ]
  },
  {
   "cell_type": "code",
   "execution_count": 85,
   "metadata": {},
   "outputs": [
    {
     "name": "stdout",
     "output_type": "stream",
     "text": [
      "False\n",
      "True\n",
      "True\n",
      "False\n",
      "True\n",
      "False\n"
     ]
    }
   ],
   "source": [
    "print(5 == 2)\n",
    "print(5 != 2)\n",
    "print(5 > 2)\n",
    "print(5 < 2)\n",
    "print(5 >= 2)\n",
    "print(5 <=2)"
   ]
  },
  {
   "cell_type": "markdown",
   "metadata": {},
   "source": [
    "# 17.Assignment Operators"
   ]
  },
  {
   "cell_type": "code",
   "execution_count": 94,
   "metadata": {},
   "outputs": [
    {
     "name": "stdout",
     "output_type": "stream",
     "text": [
      "7\n",
      "14\n",
      "12\n",
      "84\n",
      "12.0\n",
      "0\n",
      "0\n",
      "0\n"
     ]
    }
   ],
   "source": [
    "x = 7\n",
    "print(x)\n",
    "\n",
    "x += 7\n",
    "print(x)\n",
    "\n",
    "x -= 2\n",
    "print(x)\n",
    "\n",
    "x *= 7\n",
    "print(x)\n",
    "\n",
    "\n",
    "x /= 7\n",
    "print(x)\n",
    "\n",
    "\n",
    "x = 10\n",
    "x %= 2\n",
    "print(x)\n",
    "\n",
    "x //= 2\n",
    "print(x)\n",
    "\n",
    "x **= 7\n",
    "print(x)\n"
   ]
  },
  {
   "cell_type": "markdown",
   "metadata": {
    "collapsed": true
   },
   "source": [
    "# 18.Logical Operators\n"
   ]
  },
  {
   "cell_type": "code",
   "execution_count": 7,
   "metadata": {},
   "outputs": [
    {
     "name": "stdout",
     "output_type": "stream",
     "text": [
      "True\n",
      "False\n",
      "True\n"
     ]
    }
   ],
   "source": [
    "x = 4 \n",
    "y = 2\n",
    "\n",
    "print(x <= 5 and y <= 3)\n",
    "\n",
    "print(x == 5 or y >3)\n",
    "\n",
    "print(not(x == 5))"
   ]
  },
  {
   "cell_type": "markdown",
   "metadata": {},
   "source": [
    "# 19.Membership Operators"
   ]
  },
  {
   "cell_type": "code",
   "execution_count": 9,
   "metadata": {},
   "outputs": [
    {
     "name": "stdout",
     "output_type": "stream",
     "text": [
      "False\n",
      "True\n",
      "False\n"
     ]
    }
   ],
   "source": [
    "num = [1,2,3,4,5,6,7,8]\n",
    "\n",
    "print(10 in num)\n",
    "print(1 in num)\n",
    "print(5 not in num)"
   ]
  },
  {
   "cell_type": "markdown",
   "metadata": {},
   "source": [
    "# 20.Coditional "
   ]
  },
  {
   "cell_type": "markdown",
   "metadata": {},
   "source": [
    "# >>>if"
   ]
  },
  {
   "cell_type": "code",
   "execution_count": 11,
   "metadata": {},
   "outputs": [
    {
     "name": "stdout",
     "output_type": "stream",
     "text": [
      "Bob is older than Sarah\n"
     ]
    }
   ],
   "source": [
    "bob = 32\n",
    "sarah = 29\n",
    "\n",
    "if bob > sarah:\n",
    "    print(\"Bob is older than Sarah\")"
   ]
  },
  {
   "cell_type": "markdown",
   "metadata": {},
   "source": [
    "# >>>if else and elif"
   ]
  },
  {
   "cell_type": "code",
   "execution_count": 13,
   "metadata": {},
   "outputs": [
    {
     "name": "stdout",
     "output_type": "stream",
     "text": [
      "Bob is older than Sarah\n",
      "Bob and Sarah have the same age\n"
     ]
    }
   ],
   "source": [
    "bob = 32\n",
    "sarah = 29\n",
    "\n",
    "if bob > sarah:\n",
    "    print(\"Bob is older than Sarah\")\n",
    "else:\n",
    "    print(\"Bob is younger than Sarah\")\n",
    "    \n",
    "    \n",
    "bob_age = 32\n",
    "sarah_age = 32\n",
    "\n",
    "if bob_age > sarah_age:\n",
    "    print('Bob is older than Sarah')\n",
    "elif bob_age == sarah_age:\n",
    "    print('Bob and Sarah have the same age')\n",
    "else:\n",
    "    print('Bob is younger than Sarah')"
   ]
  },
  {
   "cell_type": "markdown",
   "metadata": {},
   "source": [
    "# >>>Nested conditional"
   ]
  },
  {
   "cell_type": "code",
   "execution_count": 16,
   "metadata": {},
   "outputs": [
    {
     "name": "stdout",
     "output_type": "stream",
     "text": [
      "bob is older than Sarah\n",
      "Bob is the oldest\n",
      "Bob is oldest\n",
      "bob is oldest\n"
     ]
    }
   ],
   "source": [
    "bob = 32 \n",
    "sarah = 26\n",
    "mary = 25\n",
    "\n",
    "if bob > sarah:\n",
    "    print('bob is older than Sarah')\n",
    "    if bob > mary:\n",
    "        print('Bob is the oldest')\n",
    "        \n",
    "if bob > sarah and bob > mary:\n",
    "    print('Bob is oldest')\n",
    "    \n",
    "\n",
    "if bob > sarah > mary:\n",
    "    print(\"bob is oldest\")\n",
    "    "
   ]
  },
  {
   "cell_type": "markdown",
   "metadata": {},
   "source": [
    "# >>>Ternary operators"
   ]
  },
  {
   "cell_type": "code",
   "execution_count": 18,
   "metadata": {},
   "outputs": [
    {
     "name": "stdout",
     "output_type": "stream",
     "text": [
      "1\n"
     ]
    }
   ],
   "source": [
    "a = 25\n",
    "b = 50 \n",
    "x = 0\n",
    "y = 1\n",
    "\n",
    "\n",
    "result = x if a > b else y\n",
    "\n",
    "print (result)"
   ]
  },
  {
   "cell_type": "markdown",
   "metadata": {},
   "source": [
    "# 21.While loop"
   ]
  },
  {
   "cell_type": "code",
   "execution_count": 62,
   "metadata": {},
   "outputs": [
    {
     "name": "stdout",
     "output_type": "stream",
     "text": [
      "1 squared is 1\n",
      "2 squared is 4\n",
      "3 squared is 9\n",
      "4 squared is 16\n",
      "5 squared is 25\n"
     ]
    }
   ],
   "source": [
    "# while loop \n",
    "number = 1\n",
    "while number <= 5:\n",
    "    print(number, 'squared is', number**2)\n",
    "    number = number + 1"
   ]
  },
  {
   "cell_type": "code",
   "execution_count": 63,
   "metadata": {},
   "outputs": [
    {
     "name": "stdout",
     "output_type": "stream",
     "text": [
      "1 squared is 1\n",
      "2 squared is 4\n",
      "3 squared is 9\n",
      "4 squared is 16\n",
      "5 squared is 25\n",
      "No number left\n"
     ]
    }
   ],
   "source": [
    "# else in while loop\n",
    "number = 1\n",
    "while number <= 5:\n",
    "    print(number, 'squared is', number**2)\n",
    "    number = number + 1\n",
    "else:\n",
    "    print('No number left')"
   ]
  },
  {
   "cell_type": "code",
   "execution_count": 64,
   "metadata": {},
   "outputs": [
    {
     "name": "stdout",
     "output_type": "stream",
     "text": [
      "1 squared is 1\n",
      "2 squared is 4\n",
      "3 squared is 9\n"
     ]
    }
   ],
   "source": [
    "# break \n",
    "number = 1\n",
    "while number <= 5:\n",
    "    print(number, 'squared is', number**2)\n",
    "    number = number + 1\n",
    "    if number == 4:\n",
    "        break"
   ]
  },
  {
   "cell_type": "code",
   "execution_count": 68,
   "metadata": {},
   "outputs": [
    {
     "name": "stdout",
     "output_type": "stream",
     "text": [
      "3 squared is 9\n",
      "4 squared is 16\n",
      "5 squared is 25\n",
      "6 squared is 36\n"
     ]
    }
   ],
   "source": [
    "# continue\n",
    "number = 1\n",
    "while number <= 5:\n",
    "    number = number + 1\n",
    "    if number == 2:\n",
    "        continue\n",
    "    print(number, 'squared is', number**2)\n",
    "    "
   ]
  },
  {
   "cell_type": "markdown",
   "metadata": {},
   "source": [
    "# 22.for loop"
   ]
  },
  {
   "cell_type": "code",
   "execution_count": 73,
   "metadata": {},
   "outputs": [
    {
     "name": "stdout",
     "output_type": "stream",
     "text": [
      "0\n",
      "1\n",
      "2\n",
      "3\n",
      "4\n",
      "5\n",
      "6\n",
      "7\n",
      "8\n",
      "9\n",
      "\n",
      "\n",
      "bmw\n",
      "benz\n",
      "audi\n"
     ]
    }
   ],
   "source": [
    "i = 0\n",
    "for i in range(10):\n",
    "    print(i)\n",
    "\n",
    "print(\"\\n\")\n",
    "    \n",
    "cars = ['bmw','benz','audi']\n",
    "for car in cars:\n",
    "    print(car)"
   ]
  },
  {
   "cell_type": "code",
   "execution_count": 74,
   "metadata": {},
   "outputs": [
    {
     "name": "stdout",
     "output_type": "stream",
     "text": [
      "5\n",
      "6\n",
      "7\n",
      "8\n",
      "9\n"
     ]
    }
   ],
   "source": [
    "for i in range(5,10):       # range (start , stop)\n",
    "    print(i)"
   ]
  },
  {
   "cell_type": "code",
   "execution_count": 76,
   "metadata": {},
   "outputs": [
    {
     "name": "stdout",
     "output_type": "stream",
     "text": [
      "10\n",
      "13\n",
      "16\n",
      "19\n"
     ]
    }
   ],
   "source": [
    "for i in range(10, 20, 3): # range (start, stop, increment)\n",
    "    print(i)"
   ]
  },
  {
   "cell_type": "code",
   "execution_count": 77,
   "metadata": {
    "collapsed": true
   },
   "outputs": [],
   "source": [
    "# else , break, continue are same as while loop "
   ]
  },
  {
   "cell_type": "markdown",
   "metadata": {
    "collapsed": true
   },
   "source": [
    "# 22.Functions"
   ]
  },
  {
   "cell_type": "code",
   "execution_count": 5,
   "metadata": {},
   "outputs": [
    {
     "name": "stdout",
     "output_type": "stream",
     "text": [
      "My first function!\n"
     ]
    }
   ],
   "source": [
    "def print_function():\n",
    "    print('My first function!')\n",
    "\n",
    "print_function()"
   ]
  },
  {
   "cell_type": "code",
   "execution_count": 4,
   "metadata": {},
   "outputs": [
    {
     "name": "stdout",
     "output_type": "stream",
     "text": [
      "My first fuction!\n"
     ]
    }
   ],
   "source": [
    "def print_function():             # return function\n",
    "    return 'My first function!'\n",
    "\n",
    "print(print_function())"
   ]
  },
  {
   "cell_type": "code",
   "execution_count": 7,
   "metadata": {},
   "outputs": [
    {
     "name": "stdout",
     "output_type": "stream",
     "text": [
      "(10, 2)\n"
     ]
    }
   ],
   "source": [
    "def return_number():              # return numbers\n",
    "    return 10,2\n",
    "\n",
    "print(return_number())"
   ]
  },
  {
   "cell_type": "code",
   "execution_count": 8,
   "metadata": {},
   "outputs": [
    {
     "name": "stdout",
     "output_type": "stream",
     "text": [
      "My number is: 10\n",
      "My number is: 30\n"
     ]
    }
   ],
   "source": [
    "def my_number(my_number = 30):   # return default values\n",
    "    return 'My number is: ' + str(my_number)\n",
    "\n",
    "print(my_number(10))\n",
    "print(my_number())"
   ]
  },
  {
   "cell_type": "code",
   "execution_count": 10,
   "metadata": {},
   "outputs": [
    {
     "name": "stdout",
     "output_type": "stream",
     "text": [
      "10\n",
      "2\n",
      "3\n"
     ]
    }
   ],
   "source": [
    "def my_numbers(*args):          # any number of argument     \n",
    "    for arg in args:\n",
    "        print(arg)\n",
    "\n",
    "my_numbers(10,2,3)"
   ]
  },
  {
   "cell_type": "markdown",
   "metadata": {},
   "source": [
    "# Example 1: calcutating the cube of a number"
   ]
  },
  {
   "cell_type": "code",
   "execution_count": 12,
   "metadata": {},
   "outputs": [
    {
     "name": "stdout",
     "output_type": "stream",
     "text": [
      "[1, 8, 27, 64, 125]\n"
     ]
    }
   ],
   "source": [
    "# regular method\n",
    "num = [1,2,3,4,5]\n",
    "new_list = []\n",
    "\n",
    "for n in num:\n",
    "    new_list.append(n**3)\n",
    "print(new_list)"
   ]
  },
  {
   "cell_type": "code",
   "execution_count": 1,
   "metadata": {},
   "outputs": [
    {
     "name": "stdout",
     "output_type": "stream",
     "text": [
      "[1, 8, 27, 64, 125] \n",
      "\n"
     ]
    },
    {
     "ename": "NameError",
     "evalue": "name 'fahrenheit' is not defined",
     "output_type": "error",
     "traceback": [
      "\u001b[1;31m---------------------------------------------------------------------------\u001b[0m",
      "\u001b[1;31mNameError\u001b[0m                                 Traceback (most recent call last)",
      "\u001b[1;32m<ipython-input-1-f83b32ae57ac>\u001b[0m in \u001b[0;36m<module>\u001b[1;34m()\u001b[0m\n\u001b[0;32m     11\u001b[0m \u001b[0mcelsius\u001b[0m \u001b[1;33m=\u001b[0m \u001b[1;33m[\u001b[0m\u001b[1;36m39.2\u001b[0m\u001b[1;33m,\u001b[0m \u001b[1;36m36.5\u001b[0m\u001b[1;33m,\u001b[0m \u001b[1;36m37.3\u001b[0m\u001b[1;33m,\u001b[0m \u001b[1;36m37.8\u001b[0m\u001b[1;33m]\u001b[0m\u001b[1;33m\u001b[0m\u001b[0m\n\u001b[0;32m     12\u001b[0m \u001b[0mfahrenteit\u001b[0m \u001b[1;33m=\u001b[0m \u001b[1;33m[\u001b[0m \u001b[1;33m(\u001b[0m \u001b[1;33m(\u001b[0m\u001b[0mfloat\u001b[0m\u001b[1;33m(\u001b[0m\u001b[1;36m9\u001b[0m\u001b[1;33m)\u001b[0m\u001b[1;33m/\u001b[0m\u001b[1;36m5\u001b[0m\u001b[1;33m)\u001b[0m \u001b[1;33m*\u001b[0m \u001b[0mx\u001b[0m \u001b[1;33m+\u001b[0m \u001b[1;36m32\u001b[0m\u001b[1;33m)\u001b[0m \u001b[1;32mfor\u001b[0m \u001b[0mx\u001b[0m \u001b[1;32min\u001b[0m \u001b[0mcelsius\u001b[0m \u001b[1;33m]\u001b[0m\u001b[1;33m\u001b[0m\u001b[0m\n\u001b[1;32m---> 13\u001b[1;33m \u001b[0mprint\u001b[0m\u001b[1;33m(\u001b[0m\u001b[0mfahrenheit\u001b[0m\u001b[1;33m)\u001b[0m\u001b[1;33m\u001b[0m\u001b[0m\n\u001b[0m",
      "\u001b[1;31mNameError\u001b[0m: name 'fahrenheit' is not defined"
     ]
    }
   ],
   "source": [
    "# list comprehensions\n",
    "numbers = [1,2,3,4,5]\n",
    "new_list = []\n",
    "\n",
    "new_list = [n**3 for n in numbers]\n",
    "\n",
    "print(new_list,\"\\n\")\n",
    "\n",
    "\n",
    "#------------------------\n",
    "celsius = [39.2, 36.5, 37.3, 37.8]\n",
    "fahrenheit = [ ( (float(9)/5) * x + 32) for x in celsius ]\n",
    "print(fahrenheit)"
   ]
  },
  {
   "cell_type": "markdown",
   "metadata": {},
   "source": [
    "# Example 2:calculating the cube of a number only if it is greater than 3"
   ]
  },
  {
   "cell_type": "code",
   "execution_count": 18,
   "metadata": {},
   "outputs": [
    {
     "name": "stdout",
     "output_type": "stream",
     "text": [
      "[64, 125]\n"
     ]
    }
   ],
   "source": [
    "# Regular way\n",
    "\n",
    "number = [1,2,3,4,5]\n",
    "new_list = []\n",
    "\n",
    "for n in numbers:\n",
    "    if(n > 3):\n",
    "        new_list.append(n**3)\n",
    "        \n",
    "print(new_list)"
   ]
  },
  {
   "cell_type": "code",
   "execution_count": 20,
   "metadata": {},
   "outputs": [
    {
     "name": "stdout",
     "output_type": "stream",
     "text": [
      "[64, 125]\n"
     ]
    }
   ],
   "source": [
    "# list comprehensions\n",
    "\n",
    "numbers = [1,2,3,4,5]\n",
    "new_list = []\n",
    "new_list = [n**3 for n in numbers if n > 3]\n",
    "print(new_list)"
   ]
  },
  {
   "cell_type": "markdown",
   "metadata": {},
   "source": [
    "# 23.Module"
   ]
  },
  {
   "cell_type": "code",
   "execution_count": 27,
   "metadata": {},
   "outputs": [
    {
     "data": {
      "text/plain": [
       "8.0"
      ]
     },
     "execution_count": 27,
     "metadata": {},
     "output_type": "execute_result"
    }
   ],
   "source": [
    "import math as m\n",
    " \n",
    "\n",
    "m.sqrt(121)\n",
    "m.sqrt(64)"
   ]
  },
  {
   "cell_type": "code",
   "execution_count": 32,
   "metadata": {},
   "outputs": [
    {
     "data": {
      "text/plain": [
       "9"
      ]
     },
     "execution_count": 32,
     "metadata": {},
     "output_type": "execute_result"
    }
   ],
   "source": [
    "from math import floor\n",
    "floor(9.8923)"
   ]
  },
  {
   "cell_type": "code",
   "execution_count": null,
   "metadata": {
    "collapsed": true
   },
   "outputs": [],
   "source": []
  }
 ],
 "metadata": {
  "kernelspec": {
   "display_name": "Python 3",
   "language": "python",
   "name": "python3"
  },
  "language_info": {
   "codemirror_mode": {
    "name": "ipython",
    "version": 3
   },
   "file_extension": ".py",
   "mimetype": "text/x-python",
   "name": "python",
   "nbconvert_exporter": "python",
   "pygments_lexer": "ipython3",
   "version": "3.6.3"
  }
 },
 "nbformat": 4,
 "nbformat_minor": 2
}
